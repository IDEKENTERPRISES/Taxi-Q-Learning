{
 "cells": [
  {
   "cell_type": "markdown",
   "metadata": {},
   "source": [
    "# CS4049 Assessment 2:\n",
    "\n",
    "This assessment requires the use of a Taxi environment to train a model, using OpenAI. "
   ]
  },
  {
   "cell_type": "code",
   "execution_count": 28,
   "metadata": {},
   "outputs": [],
   "source": [
    "import gymnasium as gym # For the environment.\n",
    "import tensorflow as tf\n",
    "import keras\n",
    "import numpy as np\n",
    "import random\n",
    "import math"
   ]
  },
  {
   "cell_type": "markdown",
   "metadata": {},
   "source": [
    "__We can break down reinforcement learning into five simple steps:__\n",
    "\n",
    "1. The agent is at state zero in an environment.\n",
    "2. It will take an action based on a specific strategy.\n",
    "3. It will receive a reward or punishment based on that action.\n",
    "4. By learning from previous moves and optimizing the strategy. \n",
    "5. The process will repeat until an optimal strategy is found. \n"
   ]
  },
  {
   "cell_type": "markdown",
   "metadata": {},
   "source": [
    "The epsilon-greedy method balances the exploration of an environment with a probability $\\epsilon \\approx 10 \\% $ and the exploitation of an environment , with probability $1-\\epsilon$ at the same time. \n",
    "\n",
    "We start with a higher $\\epsilon$, which reduces over time due to understanding the environment better."
   ]
  },
  {
   "cell_type": "code",
   "execution_count": 29,
   "metadata": {},
   "outputs": [],
   "source": [
    "class TaxiAgent:\n",
    "  def __init__(self):\n",
    "    \"\"\"An agent to be used for the taxi. This will keep track of the state of the taxi.\"\"\"\n",
    "    self.env = gym.make('Taxi-v3')\n",
    "    state_space = self.env.observation_space.n\n",
    "    action_space = self.env.action_space.n\n",
    "    self.quality_matrix = np.zeros((state_space, action_space))\n",
    "    self.curr_epsilon = 1\n",
    "    self.min_epsilon = 1\n",
    "    self.alpha = 0.7\n",
    "    self.gamma = 0.95\n",
    "    self.observation, self.info = self.env.reset()\n",
    "    \"\"\" print(env.action_space.n) \"\"\"\n",
    "    \"\"\" print(f'Random action = {env.action_space.sample()} ') \"\"\"\n",
    "    \"\"\" print(observation) \"\"\"\n",
    "    \n",
    "    pass\n",
    "    \n",
    "  def choose_action(self, obs):\n",
    "    \"\"\"Choose action based on the epsilon greedy principle.\"\"\"\n",
    "    greediness = random.uniform(0,1)\n",
    "    if greediness > self.curr_epsilon:\n",
    "      # Agent has chosen to exploit the environment\n",
    "      action = np.argmax(self.quality_matrix[obs])\n",
    "    else:\n",
    "      # Agent has chosen to explore the environment\n",
    "      action = self.env.action_space.sample()    \n",
    "    return action\n",
    "  \n",
    "  def update_quality(self, action, old_obs, new_obs, reward):\n",
    "    \"\"\"Update the QMatrix using the Bellman equation.\"\"\"\n",
    "    self.quality_matrix[old_obs][action] += self.alpha*(reward+(self.gamma*np.max(self.quality_matrix[new_obs]) - self.quality_matrix[old_obs][action]))\n",
    "  \n",
    "  def decay_epsilon(self, episode):\n",
    "    \"\"\"\"\"\"\n",
    "    self.curr_epsilon = self.min_epsilon + (1 - self.min_epsilon)*np.exp(-self.gamma*episode)"
   ]
  },
  {
   "cell_type": "code",
   "execution_count": null,
   "metadata": {},
   "outputs": [],
   "source": [
    "\n",
    "def train(episodes, max_steps=200):\n",
    "    \n",
    "    agent = TaxiAgent()\n",
    "    for episode in range(episodes):\n",
    "        \n",
    "        curr_step = 1\n",
    "        \n",
    "        while curr_step < max_steps:\n",
    "            action_to_take = agent.choose_action(agent.env.obs)\n",
    "            agent.env.step()"
   ]
  }
 ],
 "metadata": {
  "kernelspec": {
   "display_name": "taxi",
   "language": "python",
   "name": "python3"
  },
  "language_info": {
   "codemirror_mode": {
    "name": "ipython",
    "version": 3
   },
   "file_extension": ".py",
   "mimetype": "text/x-python",
   "name": "python",
   "nbconvert_exporter": "python",
   "pygments_lexer": "ipython3",
   "version": "3.10.7"
  }
 },
 "nbformat": 4,
 "nbformat_minor": 2
}
