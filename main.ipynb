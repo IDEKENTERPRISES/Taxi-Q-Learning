{
 "cells": [
  {
   "cell_type": "markdown",
   "metadata": {},
   "source": [
    "# CS4049 Assessment 2:\n",
    "\n",
    "This assessment requires the use of a Taxi environment to train a model, using OpenAI. "
   ]
  },
  {
   "cell_type": "code",
   "execution_count": 1,
   "metadata": {},
   "outputs": [
    {
     "name": "stdout",
     "output_type": "stream",
     "text": [
      "2.14.0\n"
     ]
    }
   ],
   "source": [
    "import gymnasium as gym  # For the environment.\n",
    "import tensorflow as tf\n",
    "import keras\n",
    "import numpy as np\n",
    "import random\n",
    "import math\n",
    "import matplotlib.pyplot as plt\n",
    "\n",
    "print(tf.__version__)"
   ]
  },
  {
   "cell_type": "markdown",
   "metadata": {},
   "source": [
    "__We can break down reinforcement learning into five simple steps:__\n",
    "\n",
    "1. The agent is at state zero in an environment.\n",
    "2. It will take an action based on a specific strategy.\n",
    "3. It will receive a reward or punishment based on that action.\n",
    "4. By learning from previous moves the the strategy of the agent becomes optimised. \n",
    "5. The process will repeat until an optimal strategy is found. \n"
   ]
  },
  {
   "cell_type": "markdown",
   "metadata": {},
   "source": [
    "The epsilon-greedy or $\\epsilon$-greedy method balances the exploration of an environment with a probability $\\epsilon \\approx 10 \\% $ and the exploitation of an environment, with probability $1-\\epsilon$ at the same time. \n",
    "\n",
    "We start with a higher $\\epsilon$, which reduces over time due to understanding the environment better."
   ]
  },
  {
   "cell_type": "code",
   "execution_count": null,
   "metadata": {},
   "outputs": [],
   "source": []
  },
  {
   "cell_type": "markdown",
   "metadata": {},
   "source": [
    "## Tabular Method for the TaxiAgent:"
   ]
  },
  {
   "cell_type": "code",
   "execution_count": null,
   "metadata": {},
   "outputs": [],
   "source": [
    "class TaxiAgent:\n",
    "    def __init__(self, gamma: float = 0.95, alpha: float = 0.7, currentEpsilon: float = 1.0, decayFactor: float = 0.1):\n",
    "        \"\"\"An agent to be used for the taxi. This will keep track of the state of the taxi. This takes in 4 values, the gamma or the discount factor, the alpha or the learning rate, the current epsilon(the factor that controls the rate of exploration), and the decay factor which controls the rate at which the epsilon reduces.\"\"\"\n",
    "        self.env = gym.make('Taxi-v3')\n",
    "        state_space = self.env.observation_space.n\n",
    "        action_space = self.env.action_space.n\n",
    "        print(state_space, action_space)\n",
    "        self.quality_matrix = np.zeros((state_space, action_space))\n",
    "        self.gamma = gamma\n",
    "        self.alpha = alpha\n",
    "        self.currentEpsilon = currentEpsilon\n",
    "        self.minEpsilon = decayFactor\n",
    "        self.reset()\n",
    "        \"\"\" print(env.action_space.n) \"\"\"\n",
    "        \"\"\" print(f'Random action = {env.action_space.sample()} ') \"\"\"\n",
    "        \"\"\" print(observation) \"\"\"\n",
    "\n",
    "        pass\n",
    "\n",
    "    def chooseAction(self, observation) -> int:\n",
    "        \"\"\"Choose the action based on the epsilon greedy principle.\"\"\"\n",
    "        greediness = random.uniform(0, 1)\n",
    "        if greediness > self.currentEpsilon:\n",
    "            # Agent has chosen to exploit the environment\n",
    "            action = np.argmax(self.quality_matrix[observation])\n",
    "        else:\n",
    "            # Agent has chosen to explore the environment\n",
    "            action = self.env.action_space.sample()\n",
    "        return action\n",
    "\n",
    "    def reset(self) -> None:\n",
    "        \"\"\"Resets the environment.\"\"\"\n",
    "        self.observation, self.info = self.env.reset()\n",
    "\n",
    "    def updateQualityMatrix(self, action: int, old_obs: int, new_obs: int, reward) -> None:\n",
    "        \"\"\"Internally updates the QMatrix using the Bellman equation.\"\"\"\n",
    "        self.quality_matrix[old_obs][action] += self.alpha*(reward+(self.gamma*np.max(\n",
    "            self.quality_matrix[new_obs]) - self.quality_matrix[old_obs][action]))\n",
    "\n",
    "    def decayEpsilon(self, episode: int) -> None:\n",
    "        \"\"\"A function that changes the epsilon amount to be smaller, reflecting the decrease in exploration.\"\"\"\n",
    "        self.currentEpsilon = self.minEpsilon + \\\n",
    "            (1 - self.minEpsilon)*np.exp(-self.gamma*episode)\n",
    "\n",
    "    def step(self, action) -> bool:\n",
    "        \"\"\"New step function using the QMatrix. Will output True if the environment is terminated or finishes.\"\"\"\n",
    "        new_obs, reward, terminated, truncated, info = self.env.step(action)\n",
    "        self.updateQualityMatrix(action, self.observation, new_obs, reward)\n",
    "        self.observation = new_obs\n",
    "        return terminated or truncated"
   ]
  },
  {
   "cell_type": "code",
   "execution_count": null,
   "metadata": {},
   "outputs": [],
   "source": [
    "def train(episodes: int, max_steps: int = 200):\n",
    "    \"\"\"The function to train the TaxiAgent.\"\"\"\n",
    "    agent = TaxiAgent()\n",
    "    for episode in range(episodes):\n",
    "        agent.reset()\n",
    "        agent.decayEpsilon(episode)\n",
    "        curr_step = 1\n",
    "        done = False\n",
    "        while curr_step < max_steps:\n",
    "            action_to_take = agent.chooseAction(agent.observation)\n",
    "            done = agent.step(action_to_take)\n",
    "            curr_step += 1\n",
    "            if done:\n",
    "                break\n",
    "\n",
    "    return agent\n",
    "\n",
    "\n",
    "resulting_agent = train(2000, 200)"
   ]
  },
  {
   "cell_type": "code",
   "execution_count": null,
   "metadata": {},
   "outputs": [],
   "source": [
    "def evaluate_agent(env: gym.Env, max_steps: int, numEvalEpisodes: int, Q: np.array):\n",
    "    \"\"\"This function evaluates the agent environment and outputs the mean reward and the standard deviation reward for the environment.\"\"\"\n",
    "\n",
    "    episode_rewards = []\n",
    "    for episode in range(numEvalEpisodes):\n",
    "        state, _ = env.reset()\n",
    "        step = 0\n",
    "        done = False\n",
    "        total_rewards_ep = 0\n",
    "\n",
    "        for step in range(max_steps):\n",
    "            # Take the action (index) that have the maximum reward\n",
    "            action = np.argmax(Q[state])\n",
    "            new_state, reward, done1, done2, info = env.step(action)\n",
    "            total_rewards_ep += reward\n",
    "\n",
    "            if done1 or done2:\n",
    "                break\n",
    "            state = new_state\n",
    "        episode_rewards.append(total_rewards_ep)\n",
    "    mean_reward = np.mean(episode_rewards)\n",
    "    std_reward = np.std(episode_rewards)\n",
    "\n",
    "    return mean_reward, std_reward\n",
    "\n",
    "\n",
    "mean_reward, std_reward = evaluate_agent(\n",
    "    resulting_agent.env, 200, 1000, resulting_agent.quality_matrix)\n",
    "print(f\"Mean reward= {mean_reward:.2f} \\n ± std of: {std_reward:.2f}\")"
   ]
  },
  {
   "cell_type": "code",
   "execution_count": null,
   "metadata": {},
   "outputs": [],
   "source": [
    "def watch_agent(env: gym.Env, max_steps: int, Q: np.array) -> None:\n",
    "    \"\"\"This is a visualising function for the environment.\"\"\"\n",
    "    state, _ = env.reset()\n",
    "    step = 0\n",
    "    done = False\n",
    "    total_rewards_ep = 0\n",
    "    rewards = []\n",
    "    for step in range(max_steps):\n",
    "        # Take the action (index) that have the maximum reward\n",
    "        action = np.argmax(Q[state])\n",
    "        new_state, reward, done1, done2, info = env.step(action)\n",
    "        total_rewards_ep += reward\n",
    "        rewards.append(total_rewards_ep)\n",
    "\n",
    "        if done1 or done2:\n",
    "            break\n",
    "        state = new_state\n",
    "\n",
    "\n",
    "new_env = gym.make(\"Taxi-v3\", render_mode=\"human\")\n",
    "watch_agent(new_env, 200, resulting_agent.quality_matrix)\n",
    "new_env.close()"
   ]
  },
  {
   "cell_type": "markdown",
   "metadata": {},
   "source": [
    "## Deep Q Learning Method for Taxi Agent:"
   ]
  },
  {
   "cell_type": "markdown",
   "metadata": {},
   "source": [
    "A deep learning model uses multiple layers of a neural network to extract the abstract data from the input. \n",
    "\n",
    "The model is made up of 6 components:\n",
    "\n",
    "- Environment\n",
    "  - Reward\n",
    "- Agent\n",
    "  - Policy\n",
    "  - Neural Network\n",
    "- Replay Memory or Buffer\n"
   ]
  },
  {
   "cell_type": "code",
   "execution_count": 2,
   "metadata": {},
   "outputs": [],
   "source": [
    "\"\"\" Have an agent class, with a policy. \"\"\"\n",
    "import tensorflow as tf\n",
    "\n",
    "from tf_agents.environments import suite_gym, tf_py_environment\n",
    "from tf_agents.agents.dqn import dqn_agent\n",
    "from tf_agents.specs import tensor_spec\n",
    "from tf_agents.networks import sequential, q_network\n",
    "from tf_agents.utils import common\n",
    "from tf_agents.policies import random_tf_policy, py_epsilon_greedy_policy\n",
    "from tf_agents.replay_buffers import tf_uniform_replay_buffer\n",
    "from tf_agents.drivers import dynamic_step_driver\n",
    "from tf_agents.trajectories import TimeStep, Trajectory, trajectory, policy_step"
   ]
  },
  {
   "cell_type": "code",
   "execution_count": 57,
   "metadata": {},
   "outputs": [],
   "source": [
    "\"\"\" Hyperparameters \"\"\"\n",
    "num_iterations = 10000\n",
    "\n",
    "initial_collect_steps = 100\n",
    "collect_steps_per_iteration = 1\n",
    "replay_buffer_max_length = 1000\n",
    "\n",
    "batch_size = 1\n",
    "learning_rate = 0.001\n",
    "log_interval = 200\n",
    "EPSILON = 0.6\n",
    "\n",
    "num_eval_episodes = 10\n",
    "eval_interval = 1000\n",
    "fc_layer_params = (60, 10)"
   ]
  },
  {
   "cell_type": "code",
   "execution_count": 58,
   "metadata": {},
   "outputs": [
    {
     "name": "stdout",
     "output_type": "stream",
     "text": [
      "6 500\n"
     ]
    }
   ],
   "source": [
    "\"\"\" Load the environment into TensorFlow. \"\"\"\n",
    "env_name = 'Taxi-v3'\n",
    "env = gym.make(env_name)\n",
    "\n",
    "ACTIONSIZE = env.action_space.n\n",
    "OBSERVATIONSIZE = env.observation_space.n\n",
    "print(ACTIONSIZE, OBSERVATIONSIZE)\n",
    "\n",
    "env = suite_gym.load(env_name)\n",
    "train_py_env = eval_py_env = suite_gym.load(env_name)\n",
    "\n",
    "train_env = tf_py_environment.TFPyEnvironment(train_py_env)\n",
    "eval_env = tf_py_environment.TFPyEnvironment(eval_py_env)\n",
    "\n",
    "\n",
    "# class RLAgent():\n",
    "#   def __init__(self) -> None:\n",
    "#     self.env_name = 'Taxi-v3'\n",
    "#     \"\"\" self.env = gym.make('Taxi-v3') \"\"\"\n",
    "#     self.env = suite_gym.load(self.env_name)\n",
    "\n",
    "#     train_py_env = suite_gym.load(self.env_name)\n",
    "#     eval_py_env = suite_gym.load(self.env_name)\n",
    "#     train_env = tf_py_environment.TFPyEnvironment(self.env_name)\n",
    "#     train_env = tf_py_environment.TFPyEnvironment(self.env_name)\n",
    "#     pass\n",
    "#   def policy(self):\n",
    "#     pass"
   ]
  },
  {
   "cell_type": "code",
   "execution_count": 59,
   "metadata": {},
   "outputs": [
    {
     "name": "stdout",
     "output_type": "stream",
     "text": [
      "Model: \"QNetwork\"\n",
      "_________________________________________________________________\n",
      " Layer (type)                Output Shape              Param #   \n",
      "=================================================================\n",
      " EncodingNetwork (EncodingN  multiple                  730       \n",
      " etwork)                                                         \n",
      "                                                                 \n",
      " dense_41 (Dense)            multiple                  66        \n",
      "                                                                 \n",
      "=================================================================\n",
      "Total params: 796 (3.11 KB)\n",
      "Trainable params: 796 (3.11 KB)\n",
      "Non-trainable params: 0 (0.00 Byte)\n",
      "_________________________________________________________________\n"
     ]
    }
   ],
   "source": [
    "\"\"\" Create the neural network. \"\"\"\n",
    "q_net = q_network.QNetwork(train_env.observation_spec(\n",
    "), train_env.action_spec(), fc_layer_params=fc_layer_params)\n",
    "q_net.create_variables()\n",
    "q_net.summary()"
   ]
  },
  {
   "cell_type": "code",
   "execution_count": 60,
   "metadata": {},
   "outputs": [],
   "source": [
    "\"\"\" Create the agent with the optimiser. \"\"\"\n",
    "optimizer = tf.keras.optimizers.legacy.Adam(learning_rate=learning_rate)\n",
    "\n",
    "train_step_counter = tf.Variable(0)\n",
    "agent = dqn_agent.DqnAgent(\n",
    "    time_step_spec=train_env.time_step_spec(),\n",
    "    action_spec=train_env.action_spec(),\n",
    "    q_network=q_net,\n",
    "    optimizer=optimizer,\n",
    "    td_errors_loss_fn=common.element_wise_squared_loss,\n",
    "    train_step_counter=train_step_counter)\n",
    "\n",
    "\"\"\" print('Observation space:', train_env.observation_spec()) \"\"\"\n",
    "\"\"\" print('Action space:', train_env.action_spec()) \"\"\"\n",
    "\n",
    "\"\"\" print('Collect data spec observation:', agent.collect_data_spec.observation) \"\"\"\n",
    "\"\"\" print('Collect data spec action:', agent.collect_data_spec.action) \"\"\"\n",
    "\n",
    "agent.initialize()"
   ]
  },
  {
   "cell_type": "code",
   "execution_count": 61,
   "metadata": {},
   "outputs": [
    {
     "name": "stdout",
     "output_type": "stream",
     "text": [
      "Policies used are the greedy_policy and the epsilon_greedy_policy.\n",
      "Policy time_step_spec: TimeStep(\n",
      "{'discount': BoundedTensorSpec(shape=(), dtype=tf.float32, name='discount', minimum=array(0., dtype=float32), maximum=array(1., dtype=float32)),\n",
      " 'observation': BoundedTensorSpec(shape=(), dtype=tf.int64, name='observation', minimum=array(0), maximum=array(499)),\n",
      " 'reward': TensorSpec(shape=(), dtype=tf.float32, name='reward'),\n",
      " 'step_type': TensorSpec(shape=(), dtype=tf.int32, name='step_type')})\n",
      "Policy action_spec: BoundedTensorSpec(shape=(), dtype=tf.int64, name='action', minimum=array(0), maximum=array(5))\n"
     ]
    }
   ],
   "source": [
    "\"\"\" Create policies. \"\"\"\n",
    "eval_policy = agent.policy\n",
    "collect_policy = agent.collect_policy\n",
    "epGreedyPolicy = py_epsilon_greedy_policy.EpsilonGreedyPolicy(\n",
    "    agent.policy, epsilon=EPSILON, epsilon_decay_end_count=0.005, epsilon_decay_end_value=0.005)\n",
    "print(\n",
    "    f'Policies used are the {eval_policy.name} and the {collect_policy.name}.', )\n",
    "\n",
    "print('Policy time_step_spec:', eval_policy.time_step_spec)\n",
    "print('Policy action_spec:', eval_policy.action_spec)"
   ]
  },
  {
   "cell_type": "code",
   "execution_count": 56,
   "metadata": {},
   "outputs": [
    {
     "name": "stdout",
     "output_type": "stream",
     "text": [
      "True Epsilon Greedy: average return = -200.89999389648438\n",
      "Evaluation policy: greedy_policy average return = -200.0\n",
      "Data Collection Policy: epsilon_greedy_policy average return = -245.0\n"
     ]
    }
   ],
   "source": [
    "def compute_avg_return(environment, policy, num_episodes=100):\n",
    "    \"\"\"Computes the average return for a policy.\"\"\"\n",
    "\n",
    "    total_return = 0.0\n",
    "    for _ in range(num_episodes):\n",
    "\n",
    "        time_step = environment.reset()\n",
    "        episode_return = 0.0\n",
    "\n",
    "        while not time_step.is_last():\n",
    "            action_step = policy.action(time_step)\n",
    "            time_step = environment.step(action_step.action)\n",
    "            episode_return += time_step.reward\n",
    "        total_return += episode_return\n",
    "\n",
    "    avg_return = total_return / num_episodes\n",
    "    return avg_return.numpy()[0]\n",
    "\n",
    "\n",
    "print(f'True Epsilon Greedy: average return = {compute_avg_return(eval_env, epGreedyPolicy, num_eval_episodes)}')\n",
    "print(\n",
    "    f'Evaluation policy: {eval_policy.name} average return = {compute_avg_return(eval_env, eval_policy, num_eval_episodes)}')\n",
    "print(\n",
    "    f'Data Collection Policy: {collect_policy.name} average return = {compute_avg_return(eval_env, collect_policy, num_eval_episodes)}')"
   ]
  },
  {
   "cell_type": "code",
   "execution_count": 62,
   "metadata": {},
   "outputs": [],
   "source": [
    "# Import the tf_uniform_replay_buffer module\n",
    "from tf_agents.replay_buffers import tf_uniform_replay_buffer\n",
    "\n",
    "# Create a TFUniformReplayBuffer instance\n",
    "replay_buffer = tf_uniform_replay_buffer.TFUniformReplayBuffer(\n",
    "    data_spec=agent.collect_data_spec,\n",
    "    max_length=replay_buffer_max_length,\n",
    "    batch_size=batch_size\n",
    ")\n",
    "\n",
    "\n",
    "# Create a ReplayBufferObserver instance\n",
    "rb_observer = [replay_buffer.add_batch]\n",
    "\n",
    "\"\"\" The driver should use the collect policy. \"\"\"\n",
    "driver = dynamic_step_driver.DynamicStepDriver(\n",
    "    env=train_env,\n",
    "    policy=epGreedyPolicy,\n",
    "    observers=rb_observer,\n",
    "    num_steps=1\n",
    ")\n",
    "\n",
    "\"\"\" Initial population of a buffer. \"\"\"\n",
    "\n",
    "for _ in range(1000):\n",
    "    driver.run()\n",
    "\n",
    "\"\"\" Convert the buffer into a dataset. \"\"\"\n",
    "dataset = replay_buffer.as_dataset(\n",
    "    num_steps=2,\n",
    "    num_parallel_calls=5,\n",
    "    sample_batch_size=10).prefetch(3)\n",
    "\n",
    "\n",
    "iterator = iter(dataset)"
   ]
  },
  {
   "cell_type": "code",
   "execution_count": 63,
   "metadata": {},
   "outputs": [
    {
     "name": "stdout",
     "output_type": "stream",
     "text": [
      "Step: 0 \t , Loss: 103.01\n",
      "Step: 500 \t , Loss: 18.49\n",
      "Step: 1000 \t , Loss: 17.78\n",
      "Step: 1500 \t , Loss: 19.85\n",
      "Step: 2000 \t , Loss: 17.69\n",
      "Step: 2500 \t , Loss: 4.33\n",
      "Step: 3000 \t , Loss: 0.95\n",
      "Step: 3500 \t , Loss: 0.02\n",
      "[<tf.Tensor: shape=(), dtype=float32, numpy=103.01455>, <tf.Tensor: shape=(), dtype=float32, numpy=18.490414>, <tf.Tensor: shape=(), dtype=float32, numpy=17.784927>, <tf.Tensor: shape=(), dtype=float32, numpy=19.849018>, <tf.Tensor: shape=(), dtype=float32, numpy=17.690355>, <tf.Tensor: shape=(), dtype=float32, numpy=4.326876>, <tf.Tensor: shape=(), dtype=float32, numpy=0.9521677>, <tf.Tensor: shape=(), dtype=float32, numpy=0.018284414>]\n"
     ]
    }
   ],
   "source": [
    "\"\"\"\n",
    "For each episode do:\n",
    "   1. Reset the environment and get the initial state.\n",
    "   2. While the episode is not done:\n",
    "       2.1. Agent chooses an action based on the current state.\n",
    "       2.2. Perform the action in the environment.\n",
    "       2.3. Receive the reward and the next state from the environment\n",
    "       2.4. Store the experience (state, action, reward, next state) in the replay buffer\n",
    "   3. Sample a batch of experiences from the replay buffer.\n",
    "   4. Use the optimizer to update the agent's network parameters based on the sampled experiences.\n",
    "5. Repeat steps 4 until the agent is sufficiently trained.\n",
    "\"\"\"\n",
    "losses = []\n",
    "\n",
    "for _ in range(10000):\n",
    "    experience = next(iterator)\n",
    "    train_loss = agent.train(experience[0]).loss\n",
    "    \"\"\" if _ % 100 == 0:  # Print every 100 steps\n",
    "    print(f'Step: {_} \\t , Loss: {train_loss}') \"\"\"\n",
    "    if _ % 500 == 0:  # Print every 500 steps\n",
    "        # print(\n",
    "        #     f'Step: {_} \\t , Loss: {train_loss}, Policy Measure: {compute_avg_return(train_env, agent.policy, 10)}')\n",
    "        print(f'Step: {_} \\t , Loss: {train_loss:.2f}')\n",
    "        losses.append(train_loss)\n",
    "    if train_loss < 0.005 or train_loss > 10000:\n",
    "        break\n",
    "\n",
    "\n",
    "\n",
    "print(losses)"
   ]
  },
  {
   "cell_type": "code",
   "execution_count": null,
   "metadata": {},
   "outputs": [],
   "source": []
  }
 ],
 "metadata": {
  "kernelspec": {
   "display_name": "taxi",
   "language": "python",
   "name": "python3"
  },
  "language_info": {
   "codemirror_mode": {
    "name": "ipython",
    "version": 3
   },
   "file_extension": ".py",
   "mimetype": "text/x-python",
   "name": "python",
   "nbconvert_exporter": "python",
   "pygments_lexer": "ipython3",
   "version": "3.11.6"
  }
 },
 "nbformat": 4,
 "nbformat_minor": 2
}
