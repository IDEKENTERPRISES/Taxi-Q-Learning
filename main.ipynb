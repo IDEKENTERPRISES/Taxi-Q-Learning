{
 "cells": [
  {
   "cell_type": "markdown",
   "metadata": {},
   "source": [
    "# CS4049 Assessment 2:\n",
    "\n",
    "This assessment requires the use of a Taxi environment to train a model, using OpenAI. "
   ]
  },
  {
   "cell_type": "code",
   "execution_count": 14,
   "metadata": {},
   "outputs": [],
   "source": [
    "import gymnasium as gym # For the environment.\n",
    "import tensorflow as tf\n",
    "import keras\n",
    "import numpy as np\n",
    "import random\n",
    "import math\n",
    "import matplotlib.pyplot as plt"
   ]
  },
  {
   "cell_type": "markdown",
   "metadata": {},
   "source": [
    "__We can break down reinforcement learning into five simple steps:__\n",
    "\n",
    "1. The agent is at state zero in an environment.\n",
    "2. It will take an action based on a specific strategy.\n",
    "3. It will receive a reward or punishment based on that action.\n",
    "4. By learning from previous moves and optimizing the strategy. \n",
    "5. The process will repeat until an optimal strategy is found. \n"
   ]
  },
  {
   "cell_type": "markdown",
   "metadata": {},
   "source": [
    "The epsilon-greedy method balances the exploration of an environment with a probability $\\epsilon \\approx 10 \\% $ and the exploitation of an environment , with probability $1-\\epsilon$ at the same time. \n",
    "\n",
    "We start with a higher $\\epsilon$, which reduces over time due to understanding the environment better."
   ]
  },
  {
   "cell_type": "code",
   "execution_count": 15,
   "metadata": {},
   "outputs": [],
   "source": [
    "class TaxiAgent:\n",
    "  def __init__(self):\n",
    "    \"\"\"An agent to be used for the taxi. This will keep track of the state of the taxi.\"\"\"\n",
    "    self.env = gym.make('Taxi-v3')\n",
    "    state_space = self.env.observation_space.n\n",
    "    action_space = self.env.action_space.n\n",
    "    self.quality_matrix = np.zeros((state_space, action_space))\n",
    "    self.curr_epsilon = 1\n",
    "    self.min_epsilon = 1\n",
    "    self.alpha = 0.7\n",
    "    self.gamma = 0.95\n",
    "    self.reset()\n",
    "    \"\"\" print(env.action_space.n) \"\"\"\n",
    "    \"\"\" print(f'Random action = {env.action_space.sample()} ') \"\"\"\n",
    "    \"\"\" print(observation) \"\"\"\n",
    "    \n",
    "    pass\n",
    "  \n",
    "  \n",
    "  def choose_action(self, obs):\n",
    "    \"\"\"Choose action based on the epsilon greedy principle.\"\"\"\n",
    "    greediness = random.uniform(0,1)\n",
    "    if greediness > self.curr_epsilon:\n",
    "      # Agent has chosen to exploit the environment\n",
    "      action = np.argmax(self.quality_matrix[obs])\n",
    "    else:\n",
    "      # Agent has chosen to explore the environment\n",
    "      action = self.env.action_space.sample()    \n",
    "    return action\n",
    "  \n",
    "  def reset(self):\n",
    "    \"\"\"Resets the environment.\"\"\"\n",
    "    self.observation, self.info = self.env.reset()\n",
    "    \n",
    "  def update_quality(self, action, old_obs, new_obs, reward):\n",
    "    \"\"\"Update the QMatrix using the Bellman equation.\"\"\"\n",
    "    self.quality_matrix[old_obs][action] += self.alpha*(reward+(self.gamma*np.max(self.quality_matrix[new_obs]) - self.quality_matrix[old_obs][action]))\n",
    "  \n",
    "  def decay_epsilon(self, episode):\n",
    "    \"\"\"Change the epsilon amount to be smaller, reflecting the decrease in exploration.\"\"\"\n",
    "    self.curr_epsilon = self.min_epsilon + (1 - self.min_epsilon)*np.exp(-self.gamma*episode)\n",
    "    \n",
    "  def step(self, action):\n",
    "    new_obs, reward, terminated, truncated, info = self.env.step(action)\n",
    "    self.update_quality(action, self.observation, new_obs, reward)\n",
    "    self.observation = new_obs\n",
    "    return terminated or truncated\n",
    "    "
   ]
  },
  {
   "cell_type": "code",
   "execution_count": 16,
   "metadata": {},
   "outputs": [],
   "source": [
    "\n",
    "def train(episodes, max_steps=200):\n",
    "    \"\"\"Train the TaxiAgent.\"\"\"\n",
    "    \n",
    "    agent = TaxiAgent()\n",
    "    for episode in range(episodes):\n",
    "        agent.reset()\n",
    "        agent.decay_epsilon(episode)\n",
    "        curr_step = 1\n",
    "        done = False\n",
    "        while curr_step < max_steps:\n",
    "            action_to_take = agent.choose_action(agent.observation)\n",
    "            done = agent.step(action_to_take)\n",
    "            if done:\n",
    "                break\n",
    "    \n",
    "    return agent\n",
    "\n",
    "\n",
    "resulting_agent = train(1000, 200)"
   ]
  },
  {
   "cell_type": "markdown",
   "metadata": {},
   "source": [
    "Other methods for exploration-exploitation are:\n",
    "- The upper confidence level.\n",
    "- Thompson sampling.\n"
   ]
  },
  {
   "cell_type": "code",
   "execution_count": 17,
   "metadata": {},
   "outputs": [
    {
     "ename": "",
     "evalue": "",
     "output_type": "error",
     "traceback": [
      "\u001b[1;31mThe Kernel crashed while executing code in the the current cell or a previous cell. Please review the code in the cell(s) to identify a possible cause of the failure. Click <a href='https://aka.ms/vscodeJupyterKernelCrash'>here</a> for more info. View Jupyter <a href='command:jupyter.viewOutput'>log</a> for further details."
     ]
    }
   ],
   "source": [
    "def evaluate_agent(env, max_steps, n_eval_episodes, Q):\n",
    "\n",
    "  episode_rewards = []\n",
    "  for episode in range(n_eval_episodes):\n",
    "    state, _ = env.reset()\n",
    "    step = 0\n",
    "    done = False\n",
    "    total_rewards_ep = 0\n",
    "   \n",
    "    for step in range(max_steps):\n",
    "      # Take the action (index) that have the maximum reward\n",
    "      action = np.argmax(Q[state])\n",
    "      new_state, reward, done1, done2, info = env.step(action)\n",
    "      total_rewards_ep += reward\n",
    "       \n",
    "      if done1 or done2:\n",
    "        break\n",
    "      state = new_state\n",
    "    episode_rewards.append(total_rewards_ep)\n",
    "  mean_reward = np.mean(episode_rewards)\n",
    "  std_reward = np.std(episode_rewards)\n",
    "\n",
    "  return mean_reward, std_reward\n",
    "\n",
    "mean_reward, std_reward = evaluate_agent(resulting_agent.env, 200, 1000, resulting_agent.quality_matrix)\n",
    "print(f\"Mean_reward= {mean_reward:.2f} +/- {std_reward:.2f}\")"
   ]
  },
  {
   "cell_type": "code",
   "execution_count": null,
   "metadata": {},
   "outputs": [
    {
     "ename": "KeyboardInterrupt",
     "evalue": "",
     "output_type": "error",
     "traceback": [
      "\u001b[1;31m---------------------------------------------------------------------------\u001b[0m",
      "\u001b[1;31mKeyboardInterrupt\u001b[0m                         Traceback (most recent call last)",
      "\u001b[1;32mc:\\Users\\juju-\\OneDrive - University of Aberdeen\\CS4049\\Assessment 2\\CS4049-assessment-2\\main.ipynb Cell 9\u001b[0m line \u001b[0;36m1\n\u001b[0;32m     <a href='vscode-notebook-cell:/c%3A/Users/juju-/OneDrive%20-%20University%20of%20Aberdeen/CS4049/Assessment%202/CS4049-assessment-2/main.ipynb#X22sZmlsZQ%3D%3D?line=14'>15</a>\u001b[0m       state \u001b[39m=\u001b[39m new_state\n\u001b[0;32m     <a href='vscode-notebook-cell:/c%3A/Users/juju-/OneDrive%20-%20University%20of%20Aberdeen/CS4049/Assessment%202/CS4049-assessment-2/main.ipynb#X22sZmlsZQ%3D%3D?line=16'>17</a>\u001b[0m new_env \u001b[39m=\u001b[39m gym\u001b[39m.\u001b[39mmake(\u001b[39m\"\u001b[39m\u001b[39mTaxi-v3\u001b[39m\u001b[39m\"\u001b[39m, render_mode\u001b[39m=\u001b[39m\u001b[39m\"\u001b[39m\u001b[39mhuman\u001b[39m\u001b[39m\"\u001b[39m)\n\u001b[1;32m---> <a href='vscode-notebook-cell:/c%3A/Users/juju-/OneDrive%20-%20University%20of%20Aberdeen/CS4049/Assessment%202/CS4049-assessment-2/main.ipynb#X22sZmlsZQ%3D%3D?line=17'>18</a>\u001b[0m watch_agent(new_env, \u001b[39m200\u001b[39;49m, resulting_agent\u001b[39m.\u001b[39;49mquality_matrix)\n\u001b[0;32m     <a href='vscode-notebook-cell:/c%3A/Users/juju-/OneDrive%20-%20University%20of%20Aberdeen/CS4049/Assessment%202/CS4049-assessment-2/main.ipynb#X22sZmlsZQ%3D%3D?line=18'>19</a>\u001b[0m new_env\u001b[39m.\u001b[39mclose()\n",
      "\u001b[1;32mc:\\Users\\juju-\\OneDrive - University of Aberdeen\\CS4049\\Assessment 2\\CS4049-assessment-2\\main.ipynb Cell 9\u001b[0m line \u001b[0;36m1\n\u001b[0;32m      <a href='vscode-notebook-cell:/c%3A/Users/juju-/OneDrive%20-%20University%20of%20Aberdeen/CS4049/Assessment%202/CS4049-assessment-2/main.ipynb#X22sZmlsZQ%3D%3D?line=6'>7</a>\u001b[0m \u001b[39mfor\u001b[39;00m step \u001b[39min\u001b[39;00m \u001b[39mrange\u001b[39m(max_steps):\n\u001b[0;32m      <a href='vscode-notebook-cell:/c%3A/Users/juju-/OneDrive%20-%20University%20of%20Aberdeen/CS4049/Assessment%202/CS4049-assessment-2/main.ipynb#X22sZmlsZQ%3D%3D?line=7'>8</a>\u001b[0m   \u001b[39m# Take the action (index) that have the maximum reward\u001b[39;00m\n\u001b[0;32m      <a href='vscode-notebook-cell:/c%3A/Users/juju-/OneDrive%20-%20University%20of%20Aberdeen/CS4049/Assessment%202/CS4049-assessment-2/main.ipynb#X22sZmlsZQ%3D%3D?line=8'>9</a>\u001b[0m   action \u001b[39m=\u001b[39m np\u001b[39m.\u001b[39margmax(Q[state])\n\u001b[1;32m---> <a href='vscode-notebook-cell:/c%3A/Users/juju-/OneDrive%20-%20University%20of%20Aberdeen/CS4049/Assessment%202/CS4049-assessment-2/main.ipynb#X22sZmlsZQ%3D%3D?line=9'>10</a>\u001b[0m   new_state, reward, done1, done2, info \u001b[39m=\u001b[39m env\u001b[39m.\u001b[39;49mstep(action)\n\u001b[0;32m     <a href='vscode-notebook-cell:/c%3A/Users/juju-/OneDrive%20-%20University%20of%20Aberdeen/CS4049/Assessment%202/CS4049-assessment-2/main.ipynb#X22sZmlsZQ%3D%3D?line=10'>11</a>\u001b[0m   total_rewards_ep \u001b[39m+\u001b[39m\u001b[39m=\u001b[39m reward\n\u001b[0;32m     <a href='vscode-notebook-cell:/c%3A/Users/juju-/OneDrive%20-%20University%20of%20Aberdeen/CS4049/Assessment%202/CS4049-assessment-2/main.ipynb#X22sZmlsZQ%3D%3D?line=12'>13</a>\u001b[0m   \u001b[39mif\u001b[39;00m done1 \u001b[39mor\u001b[39;00m done2:\n",
      "File \u001b[1;32mc:\\Users\\juju-\\OneDrive - University of Aberdeen\\CS4049\\Assessment 2\\CS4049-assessment-2\\venv\\lib\\site-packages\\gymnasium\\wrappers\\time_limit.py:57\u001b[0m, in \u001b[0;36mTimeLimit.step\u001b[1;34m(self, action)\u001b[0m\n\u001b[0;32m     46\u001b[0m \u001b[39mdef\u001b[39;00m \u001b[39mstep\u001b[39m(\u001b[39mself\u001b[39m, action):\n\u001b[0;32m     47\u001b[0m \u001b[39m    \u001b[39m\u001b[39m\"\"\"Steps through the environment and if the number of steps elapsed exceeds ``max_episode_steps`` then truncate.\u001b[39;00m\n\u001b[0;32m     48\u001b[0m \n\u001b[0;32m     49\u001b[0m \u001b[39m    Args:\u001b[39;00m\n\u001b[1;32m   (...)\u001b[0m\n\u001b[0;32m     55\u001b[0m \n\u001b[0;32m     56\u001b[0m \u001b[39m    \"\"\"\u001b[39;00m\n\u001b[1;32m---> 57\u001b[0m     observation, reward, terminated, truncated, info \u001b[39m=\u001b[39m \u001b[39mself\u001b[39;49m\u001b[39m.\u001b[39;49menv\u001b[39m.\u001b[39;49mstep(action)\n\u001b[0;32m     58\u001b[0m     \u001b[39mself\u001b[39m\u001b[39m.\u001b[39m_elapsed_steps \u001b[39m+\u001b[39m\u001b[39m=\u001b[39m \u001b[39m1\u001b[39m\n\u001b[0;32m     60\u001b[0m     \u001b[39mif\u001b[39;00m \u001b[39mself\u001b[39m\u001b[39m.\u001b[39m_elapsed_steps \u001b[39m>\u001b[39m\u001b[39m=\u001b[39m \u001b[39mself\u001b[39m\u001b[39m.\u001b[39m_max_episode_steps:\n",
      "File \u001b[1;32mc:\\Users\\juju-\\OneDrive - University of Aberdeen\\CS4049\\Assessment 2\\CS4049-assessment-2\\venv\\lib\\site-packages\\gymnasium\\wrappers\\order_enforcing.py:56\u001b[0m, in \u001b[0;36mOrderEnforcing.step\u001b[1;34m(self, action)\u001b[0m\n\u001b[0;32m     54\u001b[0m \u001b[39mif\u001b[39;00m \u001b[39mnot\u001b[39;00m \u001b[39mself\u001b[39m\u001b[39m.\u001b[39m_has_reset:\n\u001b[0;32m     55\u001b[0m     \u001b[39mraise\u001b[39;00m ResetNeeded(\u001b[39m\"\u001b[39m\u001b[39mCannot call env.step() before calling env.reset()\u001b[39m\u001b[39m\"\u001b[39m)\n\u001b[1;32m---> 56\u001b[0m \u001b[39mreturn\u001b[39;00m \u001b[39mself\u001b[39;49m\u001b[39m.\u001b[39;49menv\u001b[39m.\u001b[39;49mstep(action)\n",
      "File \u001b[1;32mc:\\Users\\juju-\\OneDrive - University of Aberdeen\\CS4049\\Assessment 2\\CS4049-assessment-2\\venv\\lib\\site-packages\\gymnasium\\wrappers\\env_checker.py:51\u001b[0m, in \u001b[0;36mPassiveEnvChecker.step\u001b[1;34m(self, action)\u001b[0m\n\u001b[0;32m     49\u001b[0m     \u001b[39mreturn\u001b[39;00m env_step_passive_checker(\u001b[39mself\u001b[39m\u001b[39m.\u001b[39menv, action)\n\u001b[0;32m     50\u001b[0m \u001b[39melse\u001b[39;00m:\n\u001b[1;32m---> 51\u001b[0m     \u001b[39mreturn\u001b[39;00m \u001b[39mself\u001b[39;49m\u001b[39m.\u001b[39;49menv\u001b[39m.\u001b[39;49mstep(action)\n",
      "File \u001b[1;32mc:\\Users\\juju-\\OneDrive - University of Aberdeen\\CS4049\\Assessment 2\\CS4049-assessment-2\\venv\\lib\\site-packages\\gymnasium\\envs\\toy_text\\taxi.py:293\u001b[0m, in \u001b[0;36mTaxiEnv.step\u001b[1;34m(self, a)\u001b[0m\n\u001b[0;32m    290\u001b[0m \u001b[39mself\u001b[39m\u001b[39m.\u001b[39mlastaction \u001b[39m=\u001b[39m a\n\u001b[0;32m    292\u001b[0m \u001b[39mif\u001b[39;00m \u001b[39mself\u001b[39m\u001b[39m.\u001b[39mrender_mode \u001b[39m==\u001b[39m \u001b[39m\"\u001b[39m\u001b[39mhuman\u001b[39m\u001b[39m\"\u001b[39m:\n\u001b[1;32m--> 293\u001b[0m     \u001b[39mself\u001b[39;49m\u001b[39m.\u001b[39;49mrender()\n\u001b[0;32m    294\u001b[0m \u001b[39mreturn\u001b[39;00m (\u001b[39mint\u001b[39m(s), r, t, \u001b[39mFalse\u001b[39;00m, {\u001b[39m\"\u001b[39m\u001b[39mprob\u001b[39m\u001b[39m\"\u001b[39m: p, \u001b[39m\"\u001b[39m\u001b[39maction_mask\u001b[39m\u001b[39m\"\u001b[39m: \u001b[39mself\u001b[39m\u001b[39m.\u001b[39maction_mask(s)})\n",
      "File \u001b[1;32mc:\\Users\\juju-\\OneDrive - University of Aberdeen\\CS4049\\Assessment 2\\CS4049-assessment-2\\venv\\lib\\site-packages\\gymnasium\\envs\\toy_text\\taxi.py:323\u001b[0m, in \u001b[0;36mTaxiEnv.render\u001b[1;34m(self)\u001b[0m\n\u001b[0;32m    321\u001b[0m     \u001b[39mreturn\u001b[39;00m \u001b[39mself\u001b[39m\u001b[39m.\u001b[39m_render_text()\n\u001b[0;32m    322\u001b[0m \u001b[39melse\u001b[39;00m:  \u001b[39m# self.render_mode in {\"human\", \"rgb_array\"}:\u001b[39;00m\n\u001b[1;32m--> 323\u001b[0m     \u001b[39mreturn\u001b[39;00m \u001b[39mself\u001b[39;49m\u001b[39m.\u001b[39;49m_render_gui(\u001b[39mself\u001b[39;49m\u001b[39m.\u001b[39;49mrender_mode)\n",
      "File \u001b[1;32mc:\\Users\\juju-\\OneDrive - University of Aberdeen\\CS4049\\Assessment 2\\CS4049-assessment-2\\venv\\lib\\site-packages\\gymnasium\\envs\\toy_text\\taxi.py:400\u001b[0m, in \u001b[0;36mTaxiEnv._render_gui\u001b[1;34m(self, mode)\u001b[0m\n\u001b[0;32m    398\u001b[0m cell \u001b[39m=\u001b[39m (x \u001b[39m*\u001b[39m \u001b[39mself\u001b[39m\u001b[39m.\u001b[39mcell_size[\u001b[39m0\u001b[39m], y \u001b[39m*\u001b[39m \u001b[39mself\u001b[39m\u001b[39m.\u001b[39mcell_size[\u001b[39m1\u001b[39m])\n\u001b[0;32m    399\u001b[0m \u001b[39mself\u001b[39m\u001b[39m.\u001b[39mwindow\u001b[39m.\u001b[39mblit(\u001b[39mself\u001b[39m\u001b[39m.\u001b[39mbackground_img, cell)\n\u001b[1;32m--> 400\u001b[0m \u001b[39mif\u001b[39;00m desc[y][x] \u001b[39m==\u001b[39m \u001b[39mb\u001b[39m\u001b[39m\"\u001b[39m\u001b[39m|\u001b[39m\u001b[39m\"\u001b[39m \u001b[39mand\u001b[39;00m (y \u001b[39m==\u001b[39m \u001b[39m0\u001b[39m \u001b[39mor\u001b[39;00m desc[y \u001b[39m-\u001b[39m \u001b[39m1\u001b[39m][x] \u001b[39m!=\u001b[39m \u001b[39mb\u001b[39m\u001b[39m\"\u001b[39m\u001b[39m|\u001b[39m\u001b[39m\"\u001b[39m):\n\u001b[0;32m    401\u001b[0m     \u001b[39mself\u001b[39m\u001b[39m.\u001b[39mwindow\u001b[39m.\u001b[39mblit(\u001b[39mself\u001b[39m\u001b[39m.\u001b[39mmedian_vert[\u001b[39m0\u001b[39m], cell)\n\u001b[0;32m    402\u001b[0m \u001b[39melif\u001b[39;00m desc[y][x] \u001b[39m==\u001b[39m \u001b[39mb\u001b[39m\u001b[39m\"\u001b[39m\u001b[39m|\u001b[39m\u001b[39m\"\u001b[39m \u001b[39mand\u001b[39;00m (\n\u001b[0;32m    403\u001b[0m     y \u001b[39m==\u001b[39m desc\u001b[39m.\u001b[39mshape[\u001b[39m0\u001b[39m] \u001b[39m-\u001b[39m \u001b[39m1\u001b[39m \u001b[39mor\u001b[39;00m desc[y \u001b[39m+\u001b[39m \u001b[39m1\u001b[39m][x] \u001b[39m!=\u001b[39m \u001b[39mb\u001b[39m\u001b[39m\"\u001b[39m\u001b[39m|\u001b[39m\u001b[39m\"\u001b[39m\n\u001b[0;32m    404\u001b[0m ):\n",
      "\u001b[1;31mKeyboardInterrupt\u001b[0m: "
     ]
    }
   ],
   "source": [
    "def watch_agent(env, max_steps, Q):\n",
    "    state, _ = env.reset()\n",
    "    step = 0\n",
    "    done = False\n",
    "    total_rewards_ep = 0\n",
    "   \n",
    "    for step in range(max_steps):\n",
    "      # Take the action (index) that have the maximum reward\n",
    "      action = np.argmax(Q[state])\n",
    "      new_state, reward, done1, done2, info = env.step(action)\n",
    "      total_rewards_ep += reward\n",
    "      \n",
    "      if done1 or done2:\n",
    "        break\n",
    "      state = new_state\n",
    "\n",
    "new_env = gym.make(\"Taxi-v3\", render_mode=\"human\")\n",
    "watch_agent(new_env, 200, resulting_agent.quality_matrix)\n",
    "new_env.close()"
   ]
  },
  {
   "cell_type": "code",
   "execution_count": null,
   "metadata": {},
   "outputs": [],
   "source": []
  },
  {
   "cell_type": "code",
   "execution_count": null,
   "metadata": {},
   "outputs": [],
   "source": []
  }
 ],
 "metadata": {
  "kernelspec": {
   "display_name": "taxi",
   "language": "python",
   "name": "python3"
  },
  "language_info": {
   "codemirror_mode": {
    "name": "ipython",
    "version": 3
   },
   "file_extension": ".py",
   "mimetype": "text/x-python",
   "name": "python",
   "nbconvert_exporter": "python",
   "pygments_lexer": "ipython3",
   "version": "3.10.7"
  }
 },
 "nbformat": 4,
 "nbformat_minor": 2
}
