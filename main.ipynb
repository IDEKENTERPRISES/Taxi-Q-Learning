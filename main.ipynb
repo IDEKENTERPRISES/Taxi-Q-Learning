{
 "cells": [
  {
   "cell_type": "markdown",
   "metadata": {},
   "source": [
    "# CS4049 Assessment 2:\n",
    "\n",
    "This assessment requires the use of a Taxi environment to train a model, using OpenAI. "
   ]
  },
  {
   "cell_type": "code",
   "execution_count": 31,
   "metadata": {},
   "outputs": [],
   "source": [
    "import gymnasium as gym # For the environment.\n",
    "import tensorflow as tf\n",
    "import keras\n",
    "import numpy as np\n",
    "import random\n",
    "import math"
   ]
  },
  {
   "cell_type": "markdown",
   "metadata": {},
   "source": [
    "__We can break down reinforcement learning into five simple steps:__\n",
    "\n",
    "1. The agent is at state zero in an environment.\n",
    "2. It will take an action based on a specific strategy.\n",
    "3. It will receive a reward or punishment based on that action.\n",
    "4. By learning from previous moves and optimizing the strategy. \n",
    "5. The process will repeat until an optimal strategy is found. \n"
   ]
  },
  {
   "cell_type": "markdown",
   "metadata": {},
   "source": [
    "The epsilon-greedy method balances the exploration of an environment with a probability $\\epsilon \\approx 10 \\% $ and the exploitation of an environment , with probability $1-\\epsilon$ at the same time. \n",
    "\n",
    "We start with a higher $\\epsilon$, which reduces over time due to understanding the environment better."
   ]
  },
  {
   "cell_type": "code",
   "execution_count": 33,
   "metadata": {},
   "outputs": [],
   "source": [
    "class TaxiAgent:\n",
    "  def __init__(self):\n",
    "    \"\"\"An agent to be used for the taxi. This will keep track of the state of the taxi.\"\"\"\n",
    "    self.env = gym.make('Taxi-v3')\n",
    "    state_space = self.env.observation_space.n\n",
    "    action_space = self.env.action_space.n\n",
    "    self.quality_matrix = np.zeros((state_space, action_space))\n",
    "    self.curr_epsilon = 1\n",
    "    self.min_epsilon = 1\n",
    "    self.alpha = 0.7\n",
    "    self.gamma = 0.95\n",
    "    self.reset()\n",
    "    \"\"\" print(env.action_space.n) \"\"\"\n",
    "    \"\"\" print(f'Random action = {env.action_space.sample()} ') \"\"\"\n",
    "    \"\"\" print(observation) \"\"\"\n",
    "    \n",
    "    pass\n",
    "    \n",
    "  def choose_action(self, obs):\n",
    "    \"\"\"Choose action based on the epsilon greedy principle.\"\"\"\n",
    "    greediness = random.uniform(0,1)\n",
    "    if greediness > self.curr_epsilon:\n",
    "      # Agent has chosen to exploit the environment\n",
    "      action = np.argmax(self.quality_matrix[obs])\n",
    "    else:\n",
    "      # Agent has chosen to explore the environment\n",
    "      action = self.env.action_space.sample()    \n",
    "    return action\n",
    "  \n",
    "  def reset(self):\n",
    "    \"\"\"Resets the environment.\"\"\"\n",
    "    self.observation, self.info = self.env.reset()\n",
    "    \n",
    "  def update_quality(self, action, old_obs, new_obs, reward):\n",
    "    \"\"\"Update the QMatrix using the Bellman equation.\"\"\"\n",
    "    self.quality_matrix[old_obs][action] += self.alpha*(reward+(self.gamma*np.max(self.quality_matrix[new_obs]) - self.quality_matrix[old_obs][action]))\n",
    "  \n",
    "  def decay_epsilon(self, episode):\n",
    "    \"\"\"Change the epsilon amount to be smaller, reflecting the decrease in exploration.\"\"\"\n",
    "    self.curr_epsilon = self.min_epsilon + (1 - self.min_epsilon)*np.exp(-self.gamma*episode)\n",
    "    \n",
    "  def step(self, action):\n",
    "    new_obs, reward, _ = self.env.step(action)\n",
    "    self.update_quality(action, self.observation, new_obs, reward)\n",
    "    self.observation = new_obs\n",
    "    return done\n",
    "    "
   ]
  },
  {
   "cell_type": "code",
   "execution_count": 35,
   "metadata": {},
   "outputs": [
    {
     "ename": "ValueError",
     "evalue": "too many values to unpack (expected 4)",
     "output_type": "error",
     "traceback": [
      "\u001b[1;31m---------------------------------------------------------------------------\u001b[0m",
      "\u001b[1;31mValueError\u001b[0m                                Traceback (most recent call last)",
      "\u001b[1;32mc:\\Users\\juju-\\OneDrive - University of Aberdeen\\CS4049\\Assessment 2\\CS4049-assessment-2\\main.ipynb Cell 6\u001b[0m line \u001b[0;36m1\n\u001b[0;32m     <a href='vscode-notebook-cell:/c%3A/Users/juju-/OneDrive%20-%20University%20of%20Aberdeen/CS4049/Assessment%202/CS4049-assessment-2/main.ipynb#X20sZmlsZQ%3D%3D?line=13'>14</a>\u001b[0m                 \u001b[39mbreak\u001b[39;00m\n\u001b[0;32m     <a href='vscode-notebook-cell:/c%3A/Users/juju-/OneDrive%20-%20University%20of%20Aberdeen/CS4049/Assessment%202/CS4049-assessment-2/main.ipynb#X20sZmlsZQ%3D%3D?line=15'>16</a>\u001b[0m     \u001b[39mreturn\u001b[39;00m agent\u001b[39m.\u001b[39mquality_matrix\n\u001b[1;32m---> <a href='vscode-notebook-cell:/c%3A/Users/juju-/OneDrive%20-%20University%20of%20Aberdeen/CS4049/Assessment%202/CS4049-assessment-2/main.ipynb#X20sZmlsZQ%3D%3D?line=18'>19</a>\u001b[0m train(\u001b[39m1000\u001b[39;49m, \u001b[39m200\u001b[39;49m)\n",
      "\u001b[1;32mc:\\Users\\juju-\\OneDrive - University of Aberdeen\\CS4049\\Assessment 2\\CS4049-assessment-2\\main.ipynb Cell 6\u001b[0m line \u001b[0;36m1\n\u001b[0;32m     <a href='vscode-notebook-cell:/c%3A/Users/juju-/OneDrive%20-%20University%20of%20Aberdeen/CS4049/Assessment%202/CS4049-assessment-2/main.ipynb#X20sZmlsZQ%3D%3D?line=9'>10</a>\u001b[0m \u001b[39mwhile\u001b[39;00m curr_step \u001b[39m<\u001b[39m max_steps:\n\u001b[0;32m     <a href='vscode-notebook-cell:/c%3A/Users/juju-/OneDrive%20-%20University%20of%20Aberdeen/CS4049/Assessment%202/CS4049-assessment-2/main.ipynb#X20sZmlsZQ%3D%3D?line=10'>11</a>\u001b[0m     action_to_take \u001b[39m=\u001b[39m agent\u001b[39m.\u001b[39mchoose_action(agent\u001b[39m.\u001b[39mobservation)\n\u001b[1;32m---> <a href='vscode-notebook-cell:/c%3A/Users/juju-/OneDrive%20-%20University%20of%20Aberdeen/CS4049/Assessment%202/CS4049-assessment-2/main.ipynb#X20sZmlsZQ%3D%3D?line=11'>12</a>\u001b[0m     done \u001b[39m=\u001b[39m agent\u001b[39m.\u001b[39;49mstep(action_to_take)\n\u001b[0;32m     <a href='vscode-notebook-cell:/c%3A/Users/juju-/OneDrive%20-%20University%20of%20Aberdeen/CS4049/Assessment%202/CS4049-assessment-2/main.ipynb#X20sZmlsZQ%3D%3D?line=12'>13</a>\u001b[0m     \u001b[39mif\u001b[39;00m done:\n\u001b[0;32m     <a href='vscode-notebook-cell:/c%3A/Users/juju-/OneDrive%20-%20University%20of%20Aberdeen/CS4049/Assessment%202/CS4049-assessment-2/main.ipynb#X20sZmlsZQ%3D%3D?line=13'>14</a>\u001b[0m         \u001b[39mbreak\u001b[39;00m\n",
      "\u001b[1;32mc:\\Users\\juju-\\OneDrive - University of Aberdeen\\CS4049\\Assessment 2\\CS4049-assessment-2\\main.ipynb Cell 6\u001b[0m line \u001b[0;36m4\n\u001b[0;32m     <a href='vscode-notebook-cell:/c%3A/Users/juju-/OneDrive%20-%20University%20of%20Aberdeen/CS4049/Assessment%202/CS4049-assessment-2/main.ipynb#X20sZmlsZQ%3D%3D?line=41'>42</a>\u001b[0m \u001b[39mdef\u001b[39;00m \u001b[39mstep\u001b[39m(\u001b[39mself\u001b[39m, action):\n\u001b[1;32m---> <a href='vscode-notebook-cell:/c%3A/Users/juju-/OneDrive%20-%20University%20of%20Aberdeen/CS4049/Assessment%202/CS4049-assessment-2/main.ipynb#X20sZmlsZQ%3D%3D?line=43'>44</a>\u001b[0m   new_obs, reward, done, info \u001b[39m=\u001b[39m \u001b[39mself\u001b[39m\u001b[39m.\u001b[39menv\u001b[39m.\u001b[39mstep(action)\n\u001b[0;32m     <a href='vscode-notebook-cell:/c%3A/Users/juju-/OneDrive%20-%20University%20of%20Aberdeen/CS4049/Assessment%202/CS4049-assessment-2/main.ipynb#X20sZmlsZQ%3D%3D?line=44'>45</a>\u001b[0m   \u001b[39mself\u001b[39m\u001b[39m.\u001b[39mupdate_quality(action, \u001b[39mself\u001b[39m\u001b[39m.\u001b[39mobservation, new_obs, reward)\n\u001b[0;32m     <a href='vscode-notebook-cell:/c%3A/Users/juju-/OneDrive%20-%20University%20of%20Aberdeen/CS4049/Assessment%202/CS4049-assessment-2/main.ipynb#X20sZmlsZQ%3D%3D?line=45'>46</a>\u001b[0m   \u001b[39mself\u001b[39m\u001b[39m.\u001b[39mobservation \u001b[39m=\u001b[39m new_obs\n",
      "\u001b[1;31mValueError\u001b[0m: too many values to unpack (expected 4)"
     ]
    }
   ],
   "source": [
    "\n",
    "def train(episodes, max_steps=200):\n",
    "    \"\"\"Train the TaxiAgent.\"\"\"\n",
    "    \n",
    "    agent = TaxiAgent()\n",
    "    for episode in range(episodes):\n",
    "        agent.reset()\n",
    "        agent.decay_epsilon(episode)\n",
    "        curr_step = 1\n",
    "        done = False\n",
    "        while curr_step < max_steps:\n",
    "            action_to_take = agent.choose_action(agent.observation)\n",
    "            done = agent.step(action_to_take)\n",
    "            if done:\n",
    "                break\n",
    "    \n",
    "    return agent.quality_matrix\n",
    "\n",
    "\n",
    "train(1000, 200)\n",
    "            "
   ]
  },
  {
   "cell_type": "markdown",
   "metadata": {},
   "source": [
    "The upper confidence level is another variation of the exploration-exploitation methodology. "
   ]
  },
  {
   "cell_type": "code",
   "execution_count": null,
   "metadata": {},
   "outputs": [],
   "source": []
  },
  {
   "cell_type": "code",
   "execution_count": 36,
   "metadata": {},
   "outputs": [
    {
     "name": "stdout",
     "output_type": "stream",
     "text": [
      "(132, -10, False, False, {'prob': 1.0, 'action_mask': array([1, 1, 0, 1, 0, 0], dtype=int8)})\n"
     ]
    }
   ],
   "source": [
    "taxi = gym.make('Taxi-v3')\n",
    "\n",
    "taxi.reset()\n",
    "\n",
    "print(taxi.step(taxi.action_space.sample()))"
   ]
  },
  {
   "cell_type": "code",
   "execution_count": null,
   "metadata": {},
   "outputs": [],
   "source": []
  }
 ],
 "metadata": {
  "kernelspec": {
   "display_name": "taxi",
   "language": "python",
   "name": "python3"
  },
  "language_info": {
   "codemirror_mode": {
    "name": "ipython",
    "version": 3
   },
   "file_extension": ".py",
   "mimetype": "text/x-python",
   "name": "python",
   "nbconvert_exporter": "python",
   "pygments_lexer": "ipython3",
   "version": "3.10.7"
  }
 },
 "nbformat": 4,
 "nbformat_minor": 2
}
